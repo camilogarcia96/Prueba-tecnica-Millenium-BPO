{
 "cells": [
  {
   "cell_type": "markdown",
   "metadata": {},
   "source": [
    "# PRUEBA TECNICA: VEHICULOS AUTONOMOS#\n",
    "\n",
    "## Datos no estructurados - Millenium BPO ##\n",
    "\n",
    "## Camilo Garcia Torres ##\n",
    "## 05 de Febrero del 2020 ##\n",
    "\n",
    "A continuación se presentara el codigo utilizado para la prueba tecnica asignada por la empresa Millenium BPO en su proceso de selección de personal.\n",
    "\n",
    "\n",
    "1. El primer paso es abrir la terminal o Command Shell en el que se este utilizando ROS y no olvidar la linea de codigo .bash para permitir la funcionalidad del mismo. \n",
    "\n",
    "2. El siguiente paso es utilizar roscore para permitir que los nodos disponibles se puedan comunicar entre si."
   ]
  },
  {
   "cell_type": "code",
   "execution_count": null,
   "metadata": {},
   "outputs": [],
   "source": [
    "$ source /opt/ros/melodic/setup.bash\n",
    "$ roscore"
   ]
  },
  {
   "cell_type": "markdown",
   "metadata": {},
   "source": [
    "3. Una vez el roscore este activo, abrimos otro Command Shell y procedemos a utilizar el paquete de rosbag. Para esto utilizaremos el comando rosbag play para darle inicio a la grabación. El subfijo -l es utilizado para dejar la grabación en un loop, pero no es necesario."
   ]
  },
  {
   "cell_type": "code",
   "execution_count": null,
   "metadata": {},
   "outputs": [],
   "source": [
    "$ rosbag play -l 2020-01-29-11-19-28.bag"
   ]
  },
  {
   "cell_type": "markdown",
   "metadata": {},
   "source": [
    "El Output del comando deberia verse como la imagen a continuación. El terminal de la izquierda muestra el output de roscore, el terminal de la derecha muestra el output despus de utilizar rosbag play\n",
    "\n",
    "\n",
    "\n",
    "<img src=\"rosbag.png\" alt=\"Drawing\" style=\"width: 800px;\"/>"
   ]
  },
  {
   "cell_type": "markdown",
   "metadata": {},
   "source": [
    "4. Ahora utilizaremos el paquete de rviz donde podremos visualizar el robot en un plano 3D."
   ]
  },
  {
   "cell_type": "code",
   "execution_count": null,
   "metadata": {},
   "outputs": [],
   "source": [
    "$rviz"
   ]
  },
  {
   "cell_type": "markdown",
   "metadata": {},
   "source": [
    "A continuación se muestra un video donde se explica los pasos a seguir para observar la localización instantanea del robot en el archivo .bag. Es necesario primero agregar el mapa, la posicion inicial presente en el paquete y el marco de referencia."
   ]
  },
  {
   "cell_type": "code",
   "execution_count": 7,
   "metadata": {},
   "outputs": [
    {
     "data": {
      "image/jpeg": "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\n",
      "text/html": [
       "\n",
       "        <iframe\n",
       "            width=\"800\"\n",
       "            height=\"500\"\n",
       "            src=\"https://www.youtube.com/embed/zS_LUgG95CQ\"\n",
       "            frameborder=\"0\"\n",
       "            allowfullscreen\n",
       "        ></iframe>\n",
       "        "
      ],
      "text/plain": [
       "<IPython.lib.display.YouTubeVideo at 0x10aaac350>"
      ]
     },
     "execution_count": 7,
     "metadata": {},
     "output_type": "execute_result"
    }
   ],
   "source": [
    "from IPython.display import HTML",
    "\n",
    "HTML('<iframe width="560" height="315" src="https://https://www.youtube.com/watch?v=zS_LUgG95CQ;controls=0&amp;showinfo=0" frameborder="0" allowfullscreen></iframe>')"
   ]
  },
  {
   "cell_type": "markdown",
   "metadata": {},
   "source": [
    "<div style=\"text-align: justify\"> 5. Por otro lado, si queremos ver la posicion instantanea en terminos de coordenadas podemos lograrlo por medio de otro paquete llamado tf. En un nuevo command shell y con la funcion tf_echo podemos ver las coordenedas instantaneas que se presentan entre 2 marcos de referencia diferentes.  Ademas, tambien podemos ver los tipos de mensajes disponibles en el rosbag por medio de rostpic list. </div>"
   ]
  },
  {
   "cell_type": "code",
   "execution_count": null,
   "metadata": {},
   "outputs": [],
   "source": [
    "$ rostopic list\n",
    "$ rosrun tf tf_echo /base_link /laser   #marco de referencia del laser con respecto al mapa"
   ]
  },
  {
   "cell_type": "markdown",
   "metadata": {},
   "source": [
    "<img src=\"tfbaselaser.png\" alt=\"Drawing\" style=\"width: 600px;\"/>"
   ]
  },
  {
   "cell_type": "markdown",
   "metadata": {},
   "source": [
    "<div style=\"text-align: justify\"> Segun el codigo podemos ver que estamos comparando el marco de referencia entre la base del robot y la posición del laser. Si miramos la imagen podemos ver que los valores de las coordenadas no cambian debido a que ambas partes conforman el robot y el marco de referencia del laser solo esta trasladado un poco con respecto al marco de referencia de la base. </div>"
   ]
  },
  {
   "cell_type": "markdown",
   "metadata": {},
   "source": [
    "\n",
    "<div style=\"text-align: justify\"> Tambien podemos comparar otros 2 marcos de referencia, como por ejemplo marco de referencia del laser con el marco de referencia sobre el mapa. Podemos ver como los valores instantaneos cambian debido a que el robot se esta moviendo. Para esto utilizaremos la misma funcion de antes pero cambiando los valores por /map /laser. </div>\n",
    "\n",
    "<img src=\"tfmaplaser.png\" alt=\"Drawing\" style=\"width: 600px;\"/>"
   ]
  },
  {
   "cell_type": "markdown",
   "metadata": {},
   "source": [
    "Por último, podemos ver las dependencias entre los marcos de referencia presentes en el robot (y sus relaciones entre ellas) por medio de tf view_frames y guardar la imagen como un archivo .png en nuestro computador"
   ]
  },
  {
   "cell_type": "code",
   "execution_count": null,
   "metadata": {},
   "outputs": [],
   "source": [
    "$ rosrun tf view_frames\n",
    "$ evince frames.pdf"
   ]
  },
  {
   "cell_type": "markdown",
   "metadata": {},
   "source": [
    "<img src=\"framestree.png\">"
   ]
  },
  {
   "cell_type": "markdown",
   "metadata": {},
   "source": [
    " <div style=\"text-align: justify\"> Este arbol permite ver las dependencias de los marcos de referencia del robot. Como podemos ver, todos los sensores, lasers y camara son dependientes de la base del robot (locales). Mientras que la base misma depende del marco de referencia del mapa (global). Por ultimo, no se utilizo la odometria ni los datos de /odom ni /initial pose directamente, pero rviz los presenta en un procreso llamado SLAM (simultaneous localization and mapping) en el cual se utiliza valores anteriores para realizar el proceso de localizacion del robot de una manera mas precisa.</div>"
   ]
  }
 ],
 "metadata": {
  "kernelspec": {
   "display_name": "Python 3",
   "language": "python",
   "name": "python3"
  },
  "language_info": {
   "codemirror_mode": {
    "name": "ipython",
    "version": 3
   },
   "file_extension": ".py",
   "mimetype": "text/x-python",
   "name": "python",
   "nbconvert_exporter": "python",
   "pygments_lexer": "ipython3",
   "version": "3.7.4"
  }
 },
 "nbformat": 4,
 "nbformat_minor": 2
}
